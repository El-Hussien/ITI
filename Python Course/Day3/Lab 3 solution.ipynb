{
 "cells": [
  {
   "cell_type": "markdown",
   "id": "257035ec",
   "metadata": {},
   "source": [
    "# Python Day 3"
   ]
  },
  {
   "cell_type": "markdown",
   "id": "dca6e433",
   "metadata": {},
   "source": [
    "### 1) Please write a function named triangle,\n",
    "which draws a triangle of\n",
    "hashes, and takes one argument. The triangle should be as tall and\n",
    "as wide as the value of the argument."
   ]
  },
  {
   "cell_type": "markdown",
   "id": "6f0ca2e4",
   "metadata": {},
   "source": [
    "**Some examples:**<BR>\n",
    "triangle(6)<BR>\n",
    "triangle(3)"
   ]
  },
  {
   "cell_type": "markdown",
   "id": "32285da9",
   "metadata": {},
   "source": [
    "\\# <br>\n",
    "\\## <br>\n",
    "\\### <br>\n",
    "\\#### <br>\n",
    "\\##### <br>\n",
    "\\###### <br>\n",
    "\n",
    "\\# <br>\n",
    "\\## <br>\n",
    "\\### <br>"
   ]
  },
  {
   "cell_type": "code",
   "execution_count": 1,
   "id": "7301f6d4",
   "metadata": {},
   "outputs": [],
   "source": [
    "def triangle(x):\n",
    "    for i in range(1,x+1,1):\n",
    "        print(i*'#')"
   ]
  },
  {
   "cell_type": "code",
   "execution_count": 4,
   "id": "cd5acb75",
   "metadata": {},
   "outputs": [
    {
     "name": "stdout",
     "output_type": "stream",
     "text": [
      "#\n",
      "##\n",
      "###\n",
      "####\n",
      "#####\n",
      "######\n"
     ]
    }
   ],
   "source": [
    "triangle(6)"
   ]
  },
  {
   "cell_type": "markdown",
   "id": "67b0907e",
   "metadata": {},
   "source": [
    "### 2) Please write a function named greatest_number, <br>\n",
    "which takes three arguments. The function returns the greatest in value of the three.<br>\n",
    "**[without using max function, and solve it in two ways]**<br>\n",
    "print(greatest_number(3, 4, 1)) # 4<br>\n",
    "print(greatest_number(99, -4, 7)) # 99<br>\n",
    "print(greatest_number(0, 0, 0)) # 0"
   ]
  },
  {
   "cell_type": "code",
   "execution_count": 7,
   "id": "ed2e896c",
   "metadata": {},
   "outputs": [
    {
     "data": {
      "text/plain": [
       "99"
      ]
     },
     "execution_count": 7,
     "metadata": {},
     "output_type": "execute_result"
    }
   ],
   "source": [
    "def greatest_number(num_1,num_2,num_3):\n",
    "    if num_1 > num_2 and num_1 > num_3 :\n",
    "        return num_1\n",
    "    elif num_2 > num_1 and num_2 > num_3 :\n",
    "        return num_2\n",
    "    elif num_3 > num_1 and num_3 > num_2 :\n",
    "        return num_3\n",
    "    else:\n",
    "        return num_1\n",
    "    \n",
    "greatest_number(99,-4,0)"
   ]
  },
  {
   "cell_type": "code",
   "execution_count": 57,
   "id": "6292c4f4",
   "metadata": {},
   "outputs": [
    {
     "name": "stdout",
     "output_type": "stream",
     "text": [
      "90\n"
     ]
    }
   ],
   "source": [
    "def greatest_number(num_1,num_2,num_3):\n",
    "    temp = num_1\n",
    "    if temp > num_2:\n",
    "        if temp > num_3:\n",
    "            return temp\n",
    "        elif temp < num_3:\n",
    "            temp = num_3\n",
    "            return temp\n",
    "    elif temp < num_2:\n",
    "        temp = num_2\n",
    "        if temp > num_3:\n",
    "            return temp\n",
    "        elif temp < num_3:\n",
    "            temp = num_3\n",
    "            return temp\n",
    "    else:\n",
    "        return temp\n",
    "        \n",
    "    \n",
    "    \n",
    "x = greatest_number(10,90,-9)\n",
    "print(x)"
   ]
  },
  {
   "cell_type": "markdown",
   "id": "5d3a9602",
   "metadata": {},
   "source": [
    "### 3) Write a function sum_series(n) that calculates the sum of the series:\n",
    "1 - 2 + 3 - 4 + 5 - ... up to n"
   ]
  },
  {
   "cell_type": "code",
   "execution_count": 54,
   "id": "d252cb34",
   "metadata": {},
   "outputs": [
    {
     "name": "stdout",
     "output_type": "stream",
     "text": [
      "2\n"
     ]
    }
   ],
   "source": [
    "def sum_series(n):\n",
    "    sum = 0\n",
    "    for i in range(1,n+1,1):\n",
    "        if i % 2 == 0:\n",
    "            i*=-1\n",
    "        sum += i\n",
    "    return sum\n",
    "\n",
    "x = sum_series(3)\n",
    "print(x)\n",
    "        "
   ]
  },
  {
   "cell_type": "markdown",
   "id": "1e653871",
   "metadata": {},
   "source": [
    "### 4) Write a Python function to calculate the factorial of a number \n",
    "(a non-negative integer). The function accepts the number as an\n",
    "argument."
   ]
  },
  {
   "cell_type": "code",
   "execution_count": 41,
   "id": "d988132b",
   "metadata": {},
   "outputs": [
    {
     "name": "stdout",
     "output_type": "stream",
     "text": [
      "Enter non negative integer: 5\n",
      "120\n"
     ]
    }
   ],
   "source": [
    "while True:\n",
    "    num = int(input(\"Enter non negative integer: \"))\n",
    "    if num >= 0 :\n",
    "        break\n",
    "\n",
    "def get_factorial(num):\n",
    "    factorial = 1\n",
    "    for i in range(1,num+1,1):\n",
    "        factorial = factorial * i\n",
    "    return factorial\n",
    "\n",
    "print(get_factorial(num))\n",
    "  "
   ]
  },
  {
   "cell_type": "markdown",
   "id": "e89a2e5b",
   "metadata": {},
   "source": [
    "### 5) Implement a function that checks if a given word is a palindrome\n",
    "(reads the same forwards and backwards)"
   ]
  },
  {
   "cell_type": "code",
   "execution_count": 51,
   "id": "bc2b4fcf",
   "metadata": {},
   "outputs": [
    {
     "data": {
      "text/plain": [
       "True"
      ]
     },
     "execution_count": 51,
     "metadata": {},
     "output_type": "execute_result"
    }
   ],
   "source": [
    "def palindrome(word):\n",
    "    rev = \"\"\n",
    "    for i in word:\n",
    "        rev = i + rev\n",
    "    if word == rev:\n",
    "        return True\n",
    "    else :\n",
    "        return False \n",
    "palindrome('level')"
   ]
  }
 ],
 "metadata": {
  "kernelspec": {
   "display_name": "Python 3 (ipykernel)",
   "language": "python",
   "name": "python3"
  },
  "language_info": {
   "codemirror_mode": {
    "name": "ipython",
    "version": 3
   },
   "file_extension": ".py",
   "mimetype": "text/x-python",
   "name": "python",
   "nbconvert_exporter": "python",
   "pygments_lexer": "ipython3",
   "version": "3.11.4"
  }
 },
 "nbformat": 4,
 "nbformat_minor": 5
}
