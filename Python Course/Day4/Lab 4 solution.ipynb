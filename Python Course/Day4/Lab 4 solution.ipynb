{
 "cells": [
  {
   "cell_type": "markdown",
   "id": "5c58450d",
   "metadata": {},
   "source": [
    "# Python Day 4"
   ]
  },
  {
   "cell_type": "markdown",
   "id": "23a151f5",
   "metadata": {},
   "source": [
    "### Python Fundamentals Lab: Data Structures (Lists & Dictionaries)"
   ]
  },
  {
   "cell_type": "markdown",
   "id": "da660767",
   "metadata": {},
   "source": [
    "#### **Warm-Up: Basic Operations**"
   ]
  },
  {
   "cell_type": "markdown",
   "id": "3798f85e",
   "metadata": {},
   "source": [
    "1. **Lists:**"
   ]
  },
  {
   "cell_type": "markdown",
   "id": "09e039e3",
   "metadata": {},
   "source": [
    "- Create a list of integers from 1 to 10. Write a script to:\n",
    "- Print the first and last elements.\n",
    "- Reverse the list.\n",
    "- Find the sum of all elements."
   ]
  },
  {
   "cell_type": "code",
   "execution_count": 1,
   "id": "8759c443",
   "metadata": {},
   "outputs": [
    {
     "name": "stdout",
     "output_type": "stream",
     "text": [
      "first element: 1, last element: 10\n",
      "55\n",
      "55\n"
     ]
    }
   ],
   "source": [
    "nums = [i for i in range(1,11)]\n",
    "print(f\"first element: {nums[0]}, last element: {nums[-1]}\")\n",
    "\n",
    "nums.reverse()\n",
    "\n",
    "s = 0\n",
    "for i in nums:\n",
    "    s += i\n",
    "print(s)\n",
    "\n",
    "print(sum(nums))"
   ]
  },
  {
   "cell_type": "markdown",
   "id": "e2f97db1",
   "metadata": {},
   "source": [
    "2. **Dictionaries:**"
   ]
  },
  {
   "cell_type": "markdown",
   "id": "33a7dd6b",
   "metadata": {},
   "source": [
    "- Create a dictionary where keys are the first 5 natural numbers and values are their squares.\n",
    "Write a script to:\n",
    "- Print all keys and their respective values.\n",
    "- Add a new key-value pair: `6: 36`.\n",
    "- Check if a specific key (e.g., 4) exists in the dictionary."
   ]
  },
  {
   "cell_type": "code",
   "execution_count": null,
   "id": "9e69791d",
   "metadata": {},
   "outputs": [],
   "source": [
    "natural_nums = {0:0,1:1,2:4,3:9,4:16,5:25}\n",
    "print(natural_nums.items())\n",
    "natural_nums[6]=36\n",
    "print(natural_nums.get(4,\"doesn't exist\"))"
   ]
  },
  {
   "cell_type": "code",
   "execution_count": null,
   "id": "bfa13053",
   "metadata": {},
   "outputs": [],
   "source": [
    "x=0**2\n",
    "x"
   ]
  },
  {
   "cell_type": "markdown",
   "id": "1b754def",
   "metadata": {},
   "source": [
    "#### **Problem-Solving: Real-World Scenarios**"
   ]
  },
  {
   "cell_type": "markdown",
   "id": "6ce40887",
   "metadata": {},
   "source": [
    "1. **Student Grades:**"
   ]
  },
  {
   "cell_type": "markdown",
   "id": "38a23461",
   "metadata": {},
   "source": [
    "- Create a dictionary to store student names as keys and a list of their grades as values. Write a\n",
    "script to:\n",
    "- Calculate the average grade for each student.\n",
    "- Find the student with the highest average."
   ]
  },
  {
   "cell_type": "code",
   "execution_count": 12,
   "id": "5da2d61f",
   "metadata": {},
   "outputs": [
    {
     "name": "stdout",
     "output_type": "stream",
     "text": [
      "Student: ahmed, Average Grade: 76.25\n",
      "Student: sarah, Average Grade: 52.0\n",
      "Student: seif, Average Grade: 73.25\n",
      "Student: alaa, Average Grade: 74.75\n",
      "\n",
      "The Student with the highest average grades is ahmed with average grades 76.25\n"
     ]
    }
   ],
   "source": [
    "students_score = {\n",
    "    'ahmed':[80,70,65,90],\n",
    "    'sarah':[50,55,52,51],\n",
    "    'seif':[60,95,65,73],\n",
    "    'alaa':[70,60,78,91]\n",
    "}\n",
    "avg_grade = {}\n",
    "for names, scores in students_score.items():\n",
    "    print(f\"Student: {names}, Average Grade: {sum(scores)/len(scores)}\")\n",
    "    avg_grade[names]=sum(scores)/len(scores)\n",
    "\n",
    "student = \"\"    \n",
    "highest = 0\n",
    "for name, score in avg_grade.items():\n",
    "    if score > highest :\n",
    "        highest = score\n",
    "        student = name\n",
    "    \n",
    "print(f\"\\nThe Student with the highest average grades is {student} with average grades {highest}\")   "
   ]
  },
  {
   "cell_type": "markdown",
   "id": "f56b9e14",
   "metadata": {},
   "source": [
    "2. **Shopping Cart:**\n"
   ]
  },
  {
   "cell_type": "markdown",
   "id": "9ac07c92",
   "metadata": {},
   "source": [
    "- Implement a shopping cart using a dictionary where keys are product names and values are their\n",
    "prices. Write a script to:\n",
    "\n",
    "- Add items to the cart.\n",
    "- Calculate the total price of items in the cart."
   ]
  },
  {
   "cell_type": "code",
   "execution_count": 16,
   "id": "ae5b4e92",
   "metadata": {},
   "outputs": [
    {
     "name": "stdout",
     "output_type": "stream",
     "text": [
      "Total price = 24\n"
     ]
    }
   ],
   "source": [
    "shopping_cart = {'milk':6}\n",
    "shopping_cart['egg']=9\n",
    "shopping_cart['sugar']=5\n",
    "shopping_cart['tea']=3\n",
    "shopping_cart['bread']=1\n",
    "\n",
    "total = 0\n",
    "for item in shopping_cart.values():\n",
    "    total += item\n",
    "print(f\"Total price = {total}\")"
   ]
  },
  {
   "cell_type": "markdown",
   "id": "d1fd3d59",
   "metadata": {},
   "source": [
    "3. **Employee Database:**"
   ]
  },
  {
   "cell_type": "markdown",
   "id": "341689b8",
   "metadata": {},
   "source": [
    "- Create a list of dictionaries where each dictionary represents an employee with attributes:\n",
    "`name`, `age`, and `department`. Write a script to:\n",
    "- Filter employees by a specific department.\n",
    "- Find the average age of employees."
   ]
  },
  {
   "cell_type": "code",
   "execution_count": 36,
   "id": "d86e0987",
   "metadata": {},
   "outputs": [
    {
     "name": "stdout",
     "output_type": "stream",
     "text": [
      "{'name': 'ahmed', 'age': 19, 'department': 'finance'}\n",
      "{'name': 'alaa', 'age': 21, 'department': 'finance'}\n",
      "{'name': 'sami', 'age': 20, 'department': 'finance'}\n",
      "25\n"
     ]
    }
   ],
   "source": [
    "employees = [{'name':'ahmed','age':19,'department':'finance'},\n",
    "            {'name':'noor','age':23,'department':'marketing'},\n",
    "            {'name':'alaa','age':21,'department':'finance'},\n",
    "            {'name':'sarah','age':22,'department':'marketing'},\n",
    "            {'name':'seif','age':24,'department':'HR'},\n",
    "            {'name':'sami','age':20,'department':'finance'},\n",
    "            {'name':'saad','age':25,'department':'HR'}]\n",
    "\n",
    "\n",
    "def filter(depart):\n",
    "    for employee in employees:\n",
    "        if employee['department'] == depart:\n",
    "            print(employee)\n",
    "        \n",
    "filter('finance')\n",
    "\n",
    "\n",
    "def avg_age():\n",
    "    \n",
    "    t_age = 0\n",
    "    for employee in employees:\n",
    "        t_age = employee['age']\n",
    "    print(t_age)\n",
    "\n",
    "avg_age()"
   ]
  },
  {
   "cell_type": "markdown",
   "id": "65f2e9a5",
   "metadata": {},
   "source": [
    "#### **Challenge Section**"
   ]
  },
  {
   "cell_type": "markdown",
   "id": "74d207d1",
   "metadata": {},
   "source": [
    "1. **Word Frequency Counter:**"
   ]
  },
  {
   "cell_type": "markdown",
   "id": "68a627b2",
   "metadata": {},
   "source": [
    "- Given a string, count the frequency of each word using a dictionary."
   ]
  },
  {
   "cell_type": "code",
   "execution_count": 68,
   "id": "1fbd8d92",
   "metadata": {},
   "outputs": [
    {
     "name": "stdout",
     "output_type": "stream",
     "text": [
      "{'I': 1, 'love': 2, 'dogs': 3, 'and': 2, 'me': 1, ',': 1, 'are': 1, 'loyal': 1, 'friendly': 1}\n"
     ]
    }
   ],
   "source": [
    "string = \"I love dogs and dogs love me , dogs are loyal and friendly\"\n",
    "\n",
    "def frequency(string):\n",
    "    frequency = {}\n",
    "    words = string.split()\n",
    "    counter = 0\n",
    "    for word in words:\n",
    "        for freq in words:\n",
    "            if word == freq:\n",
    "                counter += 1\n",
    "        frequency[word]=counter\n",
    "        counter = 0\n",
    "    print(frequency)           \n",
    "               \n",
    "    \n",
    "frequency(string)"
   ]
  },
  {
   "cell_type": "markdown",
   "id": "b95c75b7",
   "metadata": {},
   "source": [
    "2. **Inventory Management:**"
   ]
  },
  {
   "cell_type": "markdown",
   "id": "5a019aa4",
   "metadata": {},
   "source": [
    "- Create an inventory system for a store using a dictionary where keys are item names and values\n",
    "are dictionaries containing `price` and `quantity`. Write a script to:\n",
    "- Update stock after a sale.\n",
    "- Restock items."
   ]
  },
  {
   "cell_type": "code",
   "execution_count": 86,
   "id": "e0996194",
   "metadata": {},
   "outputs": [
    {
     "name": "stdout",
     "output_type": "stream",
     "text": [
      "{'item_A': {'price': 200, 'quantity': 20}, 'item_B': {'price': 150, 'quantity': 20}, 'item_C': {'price': 180, 'quantity': 15}, 'item_D': {'price': 120, 'quantity': 20}}\n",
      "{'item_A': {'price': 200, 'quantity': 20}, 'item_B': {'price': 150, 'quantity': 17}, 'item_C': {'price': 180, 'quantity': 15}, 'item_D': {'price': 120, 'quantity': 20}}\n",
      "{'item_A': {'price': 200, 'quantity': 18}, 'item_B': {'price': 150, 'quantity': 17}, 'item_C': {'price': 180, 'quantity': 15}, 'item_D': {'price': 120, 'quantity': 20}}\n",
      "2 items added to item_A\n",
      "3 items added to item_B\n",
      "5 items added to item_C\n",
      "{'item_A': {'price': 200, 'quantity': 20}, 'item_B': {'price': 150, 'quantity': 20}, 'item_C': {'price': 180, 'quantity': 20}, 'item_D': {'price': 120, 'quantity': 20}}\n"
     ]
    }
   ],
   "source": [
    "inventory = {\n",
    "    'item_A':{'price':200,'quantity':20},\n",
    "    'item_B':{'price':150,'quantity':20},\n",
    "    'item_C':{'price':180,'quantity':20},\n",
    "    'item_D':{'price':120,'quantity':20}\n",
    "}\n",
    "\n",
    "def update(item_name,quantity):\n",
    "    for k,v in inventory.items(): \n",
    "        if k == item_name:\n",
    "            v['quantity'] -= quantity\n",
    "    print(inventory)\n",
    "update('item_C',5)\n",
    "update('item_B',3)\n",
    "update('item_A',2)\n",
    "\n",
    "def restock():\n",
    "    counter = 0\n",
    "    for k,value in inventory.items():\n",
    "        if value['quantity'] != 20:\n",
    "            counter = 20 - value['quantity'] \n",
    "            value['quantity'] = value['quantity'] + counter\n",
    "            print(f\"{counter} items added to {k}\")\n",
    "    print(inventory)\n",
    "restock()"
   ]
  },
  {
   "cell_type": "markdown",
   "id": "e55283bf",
   "metadata": {},
   "source": [
    "3. **Nested Data Manipulation:**"
   ]
  },
  {
   "cell_type": "markdown",
   "id": "93c211d1",
   "metadata": {},
   "source": [
    "- Create a nested dictionary to represent a library where keys are genres and values are lists of\n",
    "books. Write a script to:\n",
    "- Add a new book to a genre.\n",
    "- List all books of a specific genre."
   ]
  },
  {
   "cell_type": "code",
   "execution_count": 7,
   "id": "22ac4278",
   "metadata": {},
   "outputs": [
    {
     "name": "stdout",
     "output_type": "stream",
     "text": [
      "{'fantasy': ['Crisis of Lust', 'Case of the Stuffed Ferret', '2132: Armageddon'], 'horror': ['The Voice of the Archangel', 'Mystery of the Pale Baker', 'test'], 'romance': ['Angel of Hippolyta', 'Sea and the Crescent', '938: Deliverance'], 'mystery': ['Mystery of the Charred Baker', 'Venus Vow', 'Bullet in the Heart']}\n"
     ]
    }
   ],
   "source": [
    "books = {\n",
    "    'fantasy':['Crisis of Lust','Case of the Stuffed Ferret','2132: Armageddon'],\n",
    "    'horror':['The Voice of the Archangel','Mystery of the Pale Baker'],\n",
    "    'romance':['Angel of Hippolyta','Sea and the Crescent','938: Deliverance'],\n",
    "    'mystery':['Mystery of the Charred Baker','Venus Vow','Bullet in the Heart']\n",
    "}\n",
    "\n",
    "def add_book(name,genre):\n",
    "    for k,v in books.items():\n",
    "        if k == genre:\n",
    "            v.append(name)\n",
    "            \n",
    "add_book('test','horror')\n",
    "print(books)\n",
    "\n"
   ]
  },
  {
   "cell_type": "markdown",
   "id": "6cc56870",
   "metadata": {},
   "source": [
    "4. **Anagram Checker:**"
   ]
  },
  {
   "cell_type": "markdown",
   "id": "9c78e1a0",
   "metadata": {},
   "source": [
    "- Write a function to check if two given strings are anagrams of each other. Two strings are\n",
    "\n",
    "anagrams if they use the same characters in the same frequency, regardless of order.\n",
    "- Example:\n",
    "```python\n",
    "Input: \"listen\", \"silent\"\n",
    "Output: True\n",
    "```"
   ]
  },
  {
   "cell_type": "code",
   "execution_count": 37,
   "id": "3e59d514",
   "metadata": {},
   "outputs": [
    {
     "data": {
      "text/plain": [
       "True"
      ]
     },
     "execution_count": 37,
     "metadata": {},
     "output_type": "execute_result"
    }
   ],
   "source": [
    "def is_anagrams(word1,word2):\n",
    "    list1 = []\n",
    "    list2 = []\n",
    "    for i in word1:\n",
    "        list1.append(i)\n",
    "    for i in word2:\n",
    "        list2.append(i)\n",
    "    for i in list1[:]:\n",
    "        for j in list2[:]:\n",
    "            if i == j:\n",
    "                list1.remove(i)\n",
    "                list2.remove(j)\n",
    "                break\n",
    "    if len(list2) == 0 and len(list1) == 0:\n",
    "        return True\n",
    "    else:\n",
    "        return False\n",
    "    \n",
    "is_anagrams('listen','silent')"
   ]
  },
  {
   "cell_type": "markdown",
   "id": "f4704e1b",
   "metadata": {},
   "source": [
    "5. **Two-Sum Problem:**"
   ]
  },
  {
   "cell_type": "markdown",
   "id": "796ce706",
   "metadata": {},
   "source": [
    "- Write a function that takes a list of integers and a target number and returns the indices of two\n",
    "numbers in the list that add up to the target.\n",
    "- Example:\n",
    "```python\n",
    "Input: nums = [2, 7, 11, 15], target = 9\n",
    "Output: [0, 1]\n",
    "```"
   ]
  },
  {
   "cell_type": "code",
   "execution_count": 52,
   "id": "ebd29bc0",
   "metadata": {
    "scrolled": true
   },
   "outputs": [
    {
     "name": "stdout",
     "output_type": "stream",
     "text": [
      "[0, 1]\n",
      "[4, 5]\n"
     ]
    }
   ],
   "source": [
    "def sum_problem(list,target):\n",
    "    new = list.copy()\n",
    "    for i in new:\n",
    "        for j in list:\n",
    "            if i + j == target :\n",
    "                print(f\"[{new.index(i)}, {new.index(j)}]\")\n",
    "                list.remove(i)\n",
    "sum_problem([2,7,11,15,5,4],9)"
   ]
  },
  {
   "cell_type": "code",
   "execution_count": 85,
   "id": "f9aa8189",
   "metadata": {},
   "outputs": [
    {
     "name": "stdout",
     "output_type": "stream",
     "text": [
      "{2: 0, 7: 1, 11: 2, 15: 3, 4: 4, 5: 5}\n"
     ]
    },
    {
     "data": {
      "text/plain": [
       "[0, 1, 4, 5]"
      ]
     },
     "execution_count": 85,
     "metadata": {},
     "output_type": "execute_result"
    }
   ],
   "source": [
    "def sum_problem2(list,target):\n",
    "    index = {}\n",
    "    values = set()\n",
    "    counter = 0\n",
    "    for i in list:\n",
    "        index[i]=counter\n",
    "        counter += 1\n",
    "    print(index)\n",
    "\n",
    "    for i in list:\n",
    "        for j in list:\n",
    "            if i + j == target:\n",
    "                values.add(i)\n",
    "                values.add(j)\n",
    "\n",
    "    result = []\n",
    "    for i in values:\n",
    "        result.append(index[i])\n",
    "\n",
    "\n",
    "    final_result = sorted(result)\n",
    "    return final_result\n",
    "\n",
    "sum_problem2([2,7,11,15,4,5],9)"
   ]
  },
  {
   "cell_type": "code",
   "execution_count": null,
   "id": "c00cd680",
   "metadata": {},
   "outputs": [],
   "source": []
  },
  {
   "cell_type": "code",
   "execution_count": null,
   "id": "85ab204a",
   "metadata": {},
   "outputs": [],
   "source": []
  }
 ],
 "metadata": {
  "kernelspec": {
   "display_name": "Python 3 (ipykernel)",
   "language": "python",
   "name": "python3"
  },
  "language_info": {
   "codemirror_mode": {
    "name": "ipython",
    "version": 3
   },
   "file_extension": ".py",
   "mimetype": "text/x-python",
   "name": "python",
   "nbconvert_exporter": "python",
   "pygments_lexer": "ipython3",
   "version": "3.11.4"
  }
 },
 "nbformat": 4,
 "nbformat_minor": 5
}
