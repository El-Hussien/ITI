{
 "cells": [
  {
   "cell_type": "markdown",
   "id": "133999f2",
   "metadata": {},
   "source": [
    "# Python Day 1"
   ]
  },
  {
   "cell_type": "markdown",
   "id": "23543cac",
   "metadata": {},
   "source": [
    "### 1) Installing Anaconda:\n",
    "* Download Anaconda Distribution | Anaconda\n",
    "* Installing Anaconda Distribution — Anaconda documentation"
   ]
  },
  {
   "cell_type": "markdown",
   "id": "4d582e1f",
   "metadata": {},
   "source": [
    "### 2) Assign a message to a variable, and then print that message."
   ]
  },
  {
   "cell_type": "code",
   "execution_count": 1,
   "id": "d8a41d7b",
   "metadata": {},
   "outputs": [
    {
     "name": "stdout",
     "output_type": "stream",
     "text": [
      "This is the message Hello! World\n"
     ]
    }
   ],
   "source": [
    "msg = \"Hello! World\"\n",
    "print(\"This is the message\",msg)"
   ]
  },
  {
   "cell_type": "markdown",
   "id": "ec3097a1",
   "metadata": {},
   "source": [
    "### 3) Use a variable to represent your favorite number. \n",
    "Then, using that variable, create a message that reveals your favorite number. Print that message."
   ]
  },
  {
   "cell_type": "code",
   "execution_count": 2,
   "id": "fc228878",
   "metadata": {},
   "outputs": [
    {
     "name": "stdout",
     "output_type": "stream",
     "text": [
      "Enter your favourite number : 15\n",
      "Your favourite number is 15\n"
     ]
    }
   ],
   "source": [
    "fav_num = input(\"Enter your favourite number : \")\n",
    "print(f\"Your favourite number is {fav_num}\")"
   ]
  },
  {
   "cell_type": "markdown",
   "id": "9ab99238",
   "metadata": {},
   "source": [
    "### 4) The volume of a sphere with radius r is 4/3πr**3. \n",
    "What is the volume of a sphere\n",
    "with radius 5? Start with a variable named radius and then assign the result to\n",
    "a variable named volume. Display the result. Add comments to indicate\n",
    "that radius is in centimeters and volume in cubic centimeters.\n"
   ]
  },
  {
   "cell_type": "code",
   "execution_count": 4,
   "id": "67246abf",
   "metadata": {},
   "outputs": [
    {
     "name": "stdout",
     "output_type": "stream",
     "text": [
      "Enter the radius : 5\n",
      "523.5987755982989\n"
     ]
    }
   ],
   "source": [
    "import math\n",
    "\n",
    "r = int(input(\"Enter the radius : \")) #radius of the sphere in centimeter\n",
    "volume = (4/3)*math.pi*r**3\n",
    "\n",
    "print(volume)"
   ]
  },
  {
   "cell_type": "markdown",
   "id": "78225d00",
   "metadata": {},
   "source": [
    "### 5) Let’s your program already contains two integer variables, x and y:\n",
    "x = 27<br>\n",
    "y = 15 <br>\n",
    "Please complete the program so that it also prints out the following:<br>\n",
    "27 + 15 = 42<br>\n",
    "27 - 15 = 12<br>\n",
    "27 * 15 = 405<br>\n",
    "27 / 15 = 1.8<br>"
   ]
  },
  {
   "cell_type": "code",
   "execution_count": 5,
   "id": "b6841315",
   "metadata": {},
   "outputs": [
    {
     "name": "stdout",
     "output_type": "stream",
     "text": [
      "27+15=42\n",
      "27-15=12\n",
      "27*15=405\n",
      "27/15=1.8\n"
     ]
    }
   ],
   "source": [
    "x, y= 27, 15\n",
    "\n",
    "print(f\"{x}+{y}={x+y}\")\n",
    "print(f\"{x}-{y}={x-y}\")\n",
    "print(f\"{x}*{y}={x*y}\")\n",
    "print(f\"{x}/{y}={x/y}\")"
   ]
  },
  {
   "cell_type": "markdown",
   "id": "0c6781a1",
   "metadata": {},
   "source": [
    "### 6) Please write a program which asks the user for a number of days. \n",
    "then prints out the number of seconds in the number of days given. <br>\n",
    "How many days? 1 <br>\n",
    "Seconds in that many days: 86400"
   ]
  },
  {
   "cell_type": "code",
   "execution_count": 6,
   "id": "a0c99174",
   "metadata": {},
   "outputs": [
    {
     "name": "stdout",
     "output_type": "stream",
     "text": [
      "How many days ? 1\n",
      "86400\n"
     ]
    }
   ],
   "source": [
    "num_days = input(\"How many days ? \")\n",
    "num_days = int(num_days)\n",
    "\n",
    "print(num_days*24*60*60)"
   ]
  },
  {
   "cell_type": "code",
   "execution_count": null,
   "id": "626d1b80",
   "metadata": {},
   "outputs": [],
   "source": []
  }
 ],
 "metadata": {
  "kernelspec": {
   "display_name": "Python 3 (ipykernel)",
   "language": "python",
   "name": "python3"
  },
  "language_info": {
   "codemirror_mode": {
    "name": "ipython",
    "version": 3
   },
   "file_extension": ".py",
   "mimetype": "text/x-python",
   "name": "python",
   "nbconvert_exporter": "python",
   "pygments_lexer": "ipython3",
   "version": "3.11.4"
  }
 },
 "nbformat": 4,
 "nbformat_minor": 5
}
