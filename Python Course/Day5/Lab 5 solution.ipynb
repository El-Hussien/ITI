{
 "cells": [
  {
   "cell_type": "markdown",
   "id": "090f7360",
   "metadata": {},
   "source": [
    "# Python Day 5"
   ]
  },
  {
   "cell_type": "markdown",
   "id": "d1f82209",
   "metadata": {},
   "source": [
    "### Python Exceptions and File Handling Lab"
   ]
  },
  {
   "cell_type": "markdown",
   "id": "bdaa2a70",
   "metadata": {},
   "source": [
    "#### Lab Overview\n",
    "This lab will cover the following topics:\n",
    "1. Reading from a file.\n",
    "2. Writing to a file.\n",
    "3. Handling exceptions effectively.\n",
    "4. Storing data in JSON format.\n",
    "5. Validating user inputs."
   ]
  },
  {
   "cell_type": "code",
   "execution_count": 2,
   "id": "d493ddc1",
   "metadata": {},
   "outputs": [],
   "source": [
    "from pathlib import Path"
   ]
  },
  {
   "cell_type": "markdown",
   "id": "9b26d2f3",
   "metadata": {},
   "source": [
    "### Problem 1: File Reader with Exception Handling "
   ]
  },
  {
   "cell_type": "markdown",
   "id": "6315759b",
   "metadata": {},
   "source": [
    "Write a Python program that:\n",
    "1. Asks the user for a file name.\n",
    "2. Reads the contents of the file.\n",
    "3. Handles the following exception:\n",
    "o FileNotFoundError if the file does not exist.\n",
    "4. If the file is read successfully, print its contents.\n",
    "5. Include an option for the user to try again if an error occurs."
   ]
  },
  {
   "cell_type": "markdown",
   "id": "c4286941",
   "metadata": {},
   "source": [
    "**Example Input:**\n",
    "```\n",
    "Enter file name: example.txt\n",
    "```\n",
    "**Example Output:**\n",
    "```\n",
    "Contents of example.txt:\n",
    "Hello, this is a sample file.\n",
    "```\n",
    "**Error Example:**\n",
    "```\n",
    "Enter file name: missing.txt\n",
    "Error: File 'missing.txt' not found.\n",
    "Would you like to try again? (yes/no): yes\n",
    "```"
   ]
  },
  {
   "cell_type": "code",
   "execution_count": 19,
   "id": "1625f943",
   "metadata": {},
   "outputs": [
    {
     "name": "stdout",
     "output_type": "stream",
     "text": [
      "Enter file name: missing.txt\n",
      "Error: file'missing.txt' not found\n",
      "Would you like to try again?(yes/no)yes\n",
      "Enter file name: example.txt\n",
      "content of example.txt:\n",
      "all good :)\n"
     ]
    }
   ],
   "source": [
    "def read_file():\n",
    "    flag = True\n",
    "\n",
    "    while flag:\n",
    "\n",
    "        try:\n",
    "            file_name = input(\"Enter file name: \")\n",
    "            path1 = Path(file_name)\n",
    "            content1 = path1.read_text()\n",
    "        except FileNotFoundError:\n",
    "            print(f\"Error: file'{file_name}' not found\")\n",
    "            quit = input(\"Would you like to try again?(yes/no)\")\n",
    "            if quit == 'yes':\n",
    "                pass\n",
    "            else:\n",
    "                flag = False\n",
    "        else:\n",
    "            print(f\"content of {file_name}:\\n{content1}\")\n",
    "            flag = False\n",
    "            \n",
    "read_file()"
   ]
  },
  {
   "cell_type": "markdown",
   "id": "f77240aa",
   "metadata": {},
   "source": [
    "### Problem 2: Write Data to a File"
   ]
  },
  {
   "cell_type": "markdown",
   "id": "578c64ed",
   "metadata": {},
   "source": [
    "Write a Python program that:\n",
    "1. Asks the user for a file name.\n",
    "2. Prompts the user to enter some text.\n",
    "3. Writes the entered text to the specified file.\n",
    "4. Handles the following exceptions:\n",
    "o PermissionError if the file cannot be written to.\n",
    "5. Confirm successful write by reopening the file and displaying its contents."
   ]
  },
  {
   "cell_type": "markdown",
   "id": "1481d47f",
   "metadata": {},
   "source": [
    "**Example Input:**\n",
    "```\n",
    "Enter file name: notes.txt\n",
    "Enter text to save: This is a note.\n",
    "```\n",
    "**Example Output:**\n",
    "```\n",
    "Data saved successfully to notes.txt.\n",
    "Contents of notes.txt:\n",
    "This is a note.\n",
    "```\n",
    "**Error Example:**\n",
    "```\n",
    "Enter file name: /restricted/notes.txt\n",
    "Error: Permission denied to write to '/restricted/notes.txt'.\n",
    "```"
   ]
  },
  {
   "cell_type": "code",
   "execution_count": 31,
   "id": "07bcf32b",
   "metadata": {},
   "outputs": [
    {
     "name": "stdout",
     "output_type": "stream",
     "text": [
      "Enter file name: notes.txt\n",
      "Enter text to save: this is a test case :)\n",
      "Data successfully saved to notes.txt.\n",
      "Content of notes.txt:\n",
      "this is a test case :)\n"
     ]
    }
   ],
   "source": [
    "def add_to_file():\n",
    "    try:\n",
    "        f_name = input(\"Enter file name: \")\n",
    "        path2 = Path(f_name)\n",
    "        test_read = path2.read_text()\n",
    "        text = input(\"Enter text to save: \")\n",
    "        path2.write_text(text)\n",
    "        content2 = path2.read_text()\n",
    "    except PermissionError:\n",
    "        print(f\"Error: Permission denied to write to {f_name}\")\n",
    "    else:\n",
    "        print(f\"Data successfully saved to {f_name}.\")\n",
    "        print(f\"Content of {f_name}:\\n{content2}\")\n",
    "\n",
    "add_to_file()"
   ]
  },
  {
   "cell_type": "markdown",
   "id": "414cb42f",
   "metadata": {},
   "source": [
    "### Problem 3: Store Data in JSON Format"
   ]
  },
  {
   "cell_type": "markdown",
   "id": "b3829d59",
   "metadata": {},
   "source": [
    "Write a Python program that:\n",
    "1. Creates a dictionary with the following structure:\n",
    "2. data = {\n",
    "3. \"name\": \"Alice\",\n",
    "4. \"age\": 25,\n",
    "5. \"city\": \"New York\"\n",
    "6. }\n",
    "7. Saves this dictionary into a file named data.json in JSON format.\n",
    "8. Handles the following exceptions:\n",
    "o IOError if there is an error writing to the file.\n",
    "9. Reloads the JSON file and displays its contents to confirm successful saving."
   ]
  },
  {
   "cell_type": "markdown",
   "id": "97a7d68c",
   "metadata": {},
   "source": [
    "Example Output:\n",
    "```\n",
    "Data saved successfully to data.json.\n",
    "Contents of data.json:\n",
    "{\"name\": \"Alice\", \"age\": 25, \"city\": \"New York\"}\n",
    "```"
   ]
  },
  {
   "cell_type": "code",
   "execution_count": 42,
   "id": "176e910f",
   "metadata": {},
   "outputs": [
    {
     "name": "stdout",
     "output_type": "stream",
     "text": [
      "Data is saved to data.jason.\n",
      "Contents of data.json:\n",
      "{'name': 'Alice', 'age': 25, 'city': 'New York'}\n"
     ]
    }
   ],
   "source": [
    "import json\n",
    "\n",
    "data = {\n",
    "    'name':'Alice',\n",
    "    'age':25,\n",
    "    'city':'New York'\n",
    "}\n",
    "\n",
    "def read_json_file():\n",
    "    try:\n",
    "        path3 = Path('data.json')\n",
    "        contents = json.dumps(data)\n",
    "        path3.write_text(contents)\n",
    "    except IOError:\n",
    "        print(\"there was an error with writing to the file.\")\n",
    "    else:\n",
    "        content3 = path3.read_text()\n",
    "        final_data = json.loads(content3)\n",
    "        print(f\"Data is saved to data.jason.\\nContents of data.json:\\n{final_data}\")\n",
    "        \n",
    "read_json_file()"
   ]
  },
  {
   "cell_type": "code",
   "execution_count": 78,
   "id": "632a635c",
   "metadata": {},
   "outputs": [
    {
     "name": "stdout",
     "output_type": "stream",
     "text": [
      "Enter json file name: data1.json\n",
      "Enter data to be saved in json: [1,2,3,4,5,5,6,8]\n",
      "Data is saved to data.jason.\n",
      "Contents of data.json:\n",
      "[1,2,3,4,5,5,6,8]\n"
     ]
    }
   ],
   "source": [
    "def save_to_json():\n",
    "    try:\n",
    "        json_file_name = input(\"Enter json file name: \")\n",
    "        path4 = Path(json_file_name)\n",
    "        json_saved = input(\"Enter data to be saved in json: \")\n",
    "        contents1 = json.dumps(json_saved)\n",
    "        path4.write_text(contents1)\n",
    "    except IOError as e:\n",
    "        print(f\"Error: {e}\")\n",
    "    else:\n",
    "        content4 = path4.read_text()\n",
    "        result = json.loads(content4)\n",
    "        print(f\"Data is saved to data.jason.\\nContents of data.json:\\n{result}\")\n",
    "        \n",
    "save_to_json()"
   ]
  },
  {
   "cell_type": "markdown",
   "id": "72d995d0",
   "metadata": {},
   "source": [
    "### Problem 4: Complete Workflow"
   ]
  },
  {
   "cell_type": "markdown",
   "id": "de235916",
   "metadata": {},
   "source": [
    "Write a program that combines all the above steps:\n",
    "1. Reads a file and prints its contents.\n",
    "2. Writes user input to a new file.\n",
    "3. Saves data in JSON format.\n",
    "4. Validates all user inputs to ensure correctness.\n",
    "5. Ensures all exceptions are handled gracefully.\n",
    "6. Provides a menu system to navigate between the tasks."
   ]
  },
  {
   "cell_type": "markdown",
   "id": "a1ccf561",
   "metadata": {},
   "source": [
    "**Example Input/Output:**\n",
    "```\n",
    "Main Menu:\n",
    "1. Read a file\n",
    "2. Write to a file\n",
    "3. Save data to JSON\n",
    "4. Exit\n",
    "Choose an option: 1\n",
    "\n",
    "Step 1: Enter file name to read: data.txt\n",
    "Error: File 'data.txt' not found.\n",
    "Would you like to try again? (yes/no): no\n",
    "\n",
    "Main Menu:\n",
    "1. Read a file\n",
    "2. Write to a file\n",
    "3. Save data to JSON\n",
    "4. Exit\n",
    "Choose an option: 2\n",
    "\n",
    "Enter file name to write: output.txt\n",
    "Enter text to save: Hello, world!\n",
    "Data saved successfully to output.txt.\n",
    "Contents of output.txt:\n",
    "Hello, world!\n",
    "\n",
    "Main Menu:\n",
    "1. Read a file\n",
    "2. Write to a file\n",
    "3. Save data to JSON\n",
    "4. Exit\n",
    "Choose an option: 4\n",
    "Goodbye!\n",
    "```"
   ]
  },
  {
   "cell_type": "code",
   "execution_count": 48,
   "id": "cf91012f",
   "metadata": {},
   "outputs": [
    {
     "name": "stdout",
     "output_type": "stream",
     "text": [
      "\n",
      "Main Menu:\n",
      "1. Read a file\n",
      "2. Write to a file\n",
      "3. Save data to json\n",
      "4. Exit\n",
      "Choose an option: 4\n",
      "Goodbye!\n"
     ]
    }
   ],
   "source": [
    "def main_menu():\n",
    "    flag1 = True\n",
    "    while flag1:\n",
    "        print(f\"\\nMain Menu:\\n1. Read a file\\n2. Write to a file\\n3. Save data to json\\n4. Exit\")\n",
    "        option = input(\"Choose an option: \")\n",
    "        if option == '1':\n",
    "            read_file()\n",
    "        elif option == '2':\n",
    "            add_to_file()\n",
    "        elif option == '3':\n",
    "            save_to_json()\n",
    "        elif option == '4':\n",
    "            print(\"Goodbye!\")\n",
    "            flag1 = False\n",
    "        else:\n",
    "            print(\"invalid input, please try again\")\n",
    "        \n",
    "        \n",
    "main_menu()"
   ]
  },
  {
   "cell_type": "markdown",
   "id": "3884a2ac",
   "metadata": {},
   "source": [
    "### Problem 5: Validate User Inputs"
   ]
  },
  {
   "cell_type": "markdown",
   "id": "dc8e8138",
   "metadata": {},
   "source": [
    "Write a Python program that:\n",
    "1. Prompts the user to enter their name, age, and email.\n",
    "2. Validates the inputs as follows:\n",
    "o Name must only contain alphabetic characters and spaces.\n",
    "o Age must be a positive integer.\n",
    "o Email must follow a standard email format (e.g., contain \"@\" and \".\").\n",
    "3. Handles the following exceptions:\n",
    "o ValueError if the age is not an integer.\n",
    "4. Outputs the validated data."
   ]
  },
  {
   "cell_type": "markdown",
   "id": "80447116",
   "metadata": {},
   "source": [
    "**Example Input:**\n",
    "```\n",
    "Enter your name: John Doe\n",
    "Enter your age: 25\n",
    "Enter your email: john.doe@example.com\n",
    "```\n",
    "**Example Output:**\n",
    "```\n",
    "Validated Data:\n",
    "Name: John Doe\n",
    "Age: 25\n",
    "Email: john.doe@example.com\n",
    "```\n",
    "**Error Example:**\n",
    "```\n",
    "Enter your age: twenty-five\n",
    "Error: Age must be a valid integer.\n",
    "```"
   ]
  },
  {
   "cell_type": "code",
   "execution_count": 2,
   "id": "a7f5bed2",
   "metadata": {},
   "outputs": [
    {
     "name": "stdout",
     "output_type": "stream",
     "text": [
      "Enter your name: jhon doe\n",
      "Enter your age: 25\n",
      "Enter your email: jhon.deo@gmail.com\n",
      "Validate Data: \n",
      "Name: jhon doe\n",
      "Age: 25\n",
      "Email: jhon.deo@gmail.com\n"
     ]
    }
   ],
   "source": [
    "import re\n",
    "def user_info():\n",
    "    while True:\n",
    "        name = input(\"Enter your name: \")\n",
    "        if all(char.isalpha() or char.isspace() for char in name):\n",
    "            break\n",
    "        else:\n",
    "            print(\"Invalid name, please try again\")\n",
    "        \n",
    "    while True:\n",
    "        try: \n",
    "            age = int(input(\"Enter your age: \"))\n",
    "        except ValueError:\n",
    "            print(\"Error: please enter positive integers only\")\n",
    "        else:\n",
    "            if age > 0 and age < 200:\n",
    "                break\n",
    "            else:\n",
    "                print(\"invalid age, please try again\")\n",
    "                \n",
    "    pattern = r'^[a-zA-Z0-9._%+-]+@[a-zA-Z0-9.-]+\\.[a-zA-Z]{2,}$'            \n",
    "    while True:\n",
    "        email = input(\"Enter your email: \")\n",
    "        \n",
    "        if re.fullmatch(pattern, email):\n",
    "            break\n",
    "        else:\n",
    "            print(\"Invalid Email, please try again\")\n",
    "    \n",
    "    print(f\"Validate Data: \\nName: {name}\\nAge: {age}\\nEmail: {email}\")\n",
    "    \n",
    "user_info()"
   ]
  },
  {
   "cell_type": "markdown",
   "id": "525476c7",
   "metadata": {},
   "source": [
    "### Bonus Task\n",
    "\n",
    "Enhance Problem 3 by allowing the user to input their own data (e.g., name, age, and city)\n",
    "instead of using hardcoded values. Include validation to ensure:\n",
    "\n",
    "1. Name is a string.\n",
    "2. Age is a positive integer.\n",
    "3. City is a non-empty string."
   ]
  },
  {
   "cell_type": "code",
   "execution_count": 77,
   "id": "8f795499",
   "metadata": {},
   "outputs": [
    {
     "name": "stdout",
     "output_type": "stream",
     "text": [
      "Enter name: Alice\n",
      "Enter age: 25\n",
      "Enter city: New York\n",
      "{'name': 'Alice', 'age': 25, 'city': 'New York'}\n"
     ]
    }
   ],
   "source": [
    "def json_data():\n",
    "    data_dict = {}\n",
    "    while True:\n",
    "        name1 = input(\"Enter name: \")\n",
    "        if all(char.isalpha() or char.isspace() for char in name1):\n",
    "            data_dict['name']=name1\n",
    "            break\n",
    "        else:\n",
    "            print(\"Invalid name, please try again\")\n",
    "        \n",
    "    while True:\n",
    "        try: \n",
    "            age1 = int(input(\"Enter age: \"))\n",
    "        except ValueError:\n",
    "            print(\"Error: please enter positive integers only\")\n",
    "        else:\n",
    "            if age1 > 0 and age1 < 200:\n",
    "                data_dict['age']=age1\n",
    "                break\n",
    "            else:\n",
    "                print(\"invalid age, please try again\")\n",
    "    while True:\n",
    "        city = input(\"Enter city: \")\n",
    "        if city or len(city) != 0:\n",
    "            data_dict['city']=city\n",
    "            break\n",
    "        else:\n",
    "            print(\"Invalid city, please try again\")\n",
    "    \n",
    "    return data_dict      \n",
    "print(json_data())\n"
   ]
  }
 ],
 "metadata": {
  "kernelspec": {
   "display_name": "Python 3 (ipykernel)",
   "language": "python",
   "name": "python3"
  },
  "language_info": {
   "codemirror_mode": {
    "name": "ipython",
    "version": 3
   },
   "file_extension": ".py",
   "mimetype": "text/x-python",
   "name": "python",
   "nbconvert_exporter": "python",
   "pygments_lexer": "ipython3",
   "version": "3.11.4"
  }
 },
 "nbformat": 4,
 "nbformat_minor": 5
}
