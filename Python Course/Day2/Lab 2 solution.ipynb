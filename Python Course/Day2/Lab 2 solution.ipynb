{
 "cells": [
  {
   "cell_type": "markdown",
   "id": "4677edde",
   "metadata": {},
   "source": [
    "# Python Day 2"
   ]
  },
  {
   "cell_type": "markdown",
   "id": "15e4b153-5b2a-4a5b-9c40-e4b24aa9c02b",
   "metadata": {},
   "source": [
    "### **1) Calculator**"
   ]
  },
  {
   "cell_type": "markdown",
   "id": "d0fc2ea3-00c5-449b-8332-702460970803",
   "metadata": {},
   "source": [
    "Please write a program which asks the user for two numbers and an operation. If the operation is add, multiply or subtract, the program should calculate and print out the result of the operation with the given numbers. If the user types in anything else, the program should print out nothing."
   ]
  },
  {
   "cell_type": "markdown",
   "id": "cecefa88-1737-4cec-b2a2-fcca81854602",
   "metadata": {},
   "source": [
    "*Some examples of expected behaviour:*"
   ]
  },
  {
   "cell_type": "markdown",
   "id": "9be70e8f-4523-4d59-aaee-2d0261d4771a",
   "metadata": {},
   "source": [
    "Number 1: 10<br>\n",
    "Number 2: 17<br>\n",
    "Operation: add<br>\n",
    "\n",
    "10 + 17 = 27"
   ]
  },
  {
   "cell_type": "markdown",
   "id": "7245b231-f948-4dc7-910e-7995ccc89099",
   "metadata": {},
   "source": [
    "Number 1: 4<br>\n",
    "Number 2: 6<br>\n",
    "Operation: multiply<br>\n",
    "\n",
    "4 * 6 = 24"
   ]
  },
  {
   "cell_type": "code",
   "execution_count": 35,
   "id": "b8e8f162-fc2d-4fd8-b014-6051f375ccaf",
   "metadata": {},
   "outputs": [
    {
     "name": "stdout",
     "output_type": "stream",
     "text": [
      "Number 1: 5\n",
      "Number 2: 6\n",
      "Operation: add\n",
      "\n",
      "5 + 6 = 11\n"
     ]
    }
   ],
   "source": [
    "num1 = int(input(\"Number 1: \"))\n",
    "num2 = int(input(\"Number 2: \"))\n",
    "operator = input(\"Operation: \")\n",
    "print(\"\")\n",
    "if operator == \"add\":\n",
    "    print(f\"{num1} + {num2} = {num1+num2}\")\n",
    "elif operator == \"multiply\":\n",
    "    print(f\"{num1} * {num2} = {num1*num2}\")\n",
    "elif operator == \"subtract\":\n",
    "    print(f\"{num1} - {num2} = {num1-num2}\")\n",
    "else:\n",
    "    print(\"Nothing\")\n",
    "    "
   ]
  },
  {
   "cell_type": "code",
   "execution_count": null,
   "id": "4627da47-9a7d-44e7-8312-387af9b3b230",
   "metadata": {},
   "outputs": [],
   "source": []
  },
  {
   "cell_type": "markdown",
   "id": "bc03ef23-204c-4293-9bc1-70b04017d049",
   "metadata": {},
   "source": [
    "### **2) Daily wages**"
   ]
  },
  {
   "cell_type": "markdown",
   "id": "95bdbf66-8275-4171-9d88-9490a475d9d9",
   "metadata": {},
   "source": [
    "Please write a program which asks for the hourly wage, hours worked, and the day of the week. The program should then print out the daily wages, which equal hourly wage multiplied by hours worked, except on Sundays when the hourly wage is doubled."
   ]
  },
  {
   "cell_type": "markdown",
   "id": "8302ea63-9331-4910-9a3d-0e4c10925d8e",
   "metadata": {},
   "source": [
    "Hourly wage: 8.5<br>\n",
    "Hours worked: 3<br>\n",
    "Day of the week: Monday<br>\n",
    "Daily wages: 25.5 euros<br>"
   ]
  },
  {
   "cell_type": "markdown",
   "id": "372a4954-6185-484c-a903-304afb033607",
   "metadata": {},
   "source": [
    "Hourly wage: 12.5<br>\n",
    "Hours worked: 10<br>\n",
    "Day of the week: Sunday<br>\n",
    "Daily wages: 250.0 euros<br>"
   ]
  },
  {
   "cell_type": "code",
   "execution_count": 46,
   "id": "e9a857db-2e4b-4516-a228-e4702aeeb67b",
   "metadata": {},
   "outputs": [
    {
     "name": "stdout",
     "output_type": "stream",
     "text": [
      "Hourly wage: 8.5\n",
      "Hours worked: 3\n",
      "Day of the week: Monday\n",
      "Daily wages: 25.5 euros\n"
     ]
    }
   ],
   "source": [
    "h_wage = float(input(\"Hourly wage: \"))\n",
    "h_worked = int(input(\"Hours worked: \"))\n",
    "day = input(\"Day of the week: \")\n",
    "price = 0\n",
    "if day != 'Sunday':\n",
    "    price += (h_wage * h_worked)   \n",
    "elif day == 'Sunday':\n",
    "    price += 2*(h_wage * h_worked)\n",
    "print(f\"Daily wages: {price} euros\")"
   ]
  },
  {
   "cell_type": "code",
   "execution_count": null,
   "id": "9fe32f36-94c3-4e93-849b-4dbd9f47d722",
   "metadata": {},
   "outputs": [],
   "source": []
  },
  {
   "cell_type": "markdown",
   "id": "08c9cec2-2be8-46ec-bb3a-4f49f4af0c12",
   "metadata": {},
   "source": [
    "### **3) Loyalty bonus**"
   ]
  },
  {
   "cell_type": "markdown",
   "id": "e0fc7406-7d32-4001-b114-aab35433ae5a",
   "metadata": {},
   "source": [
    "This program calculates the end of year bonus a customer receives on their loyalty card. The bonus is calculated with the following formula:\n",
    "\n",
    "- If there are less than a hundred points on the card, the bonus is 10 %\n",
    "- In any other case the bonus is 15 %<br>\n",
    "The program should work like this:"
   ]
  },
  {
   "cell_type": "markdown",
   "id": "6759be84-9f2e-4242-b598-c52e620cb1cf",
   "metadata": {},
   "source": [
    "How many points are on your card? 55<br>\n",
    "Your bonus is 10 %<br>\n",
    "You now have 60.5 points"
   ]
  },
  {
   "cell_type": "markdown",
   "id": "06612d96-66ba-4bc6-b1a4-6e8bbfd01a52",
   "metadata": {},
   "source": [
    "**But there is a problem with the program**, so with some inputs it doesn't work quite right:"
   ]
  },
  {
   "cell_type": "markdown",
   "id": "93887f5c-a675-45f7-bfe5-8b6e214f837b",
   "metadata": {},
   "source": [
    "How many points are on your card? 95<br>\n",
    "Your bonus is 10 %<br>\n",
    "Your bonus is 15 %<br>\n",
    "You now have 120.175 points"
   ]
  },
  {
   "cell_type": "markdown",
   "id": "323e340d-a81b-4540-8f51-7c4683ce8b13",
   "metadata": {},
   "source": [
    "Please fix the program so that there is always **either a 10 % or a 15 % bonus, but never both.**"
   ]
  },
  {
   "cell_type": "code",
   "execution_count": 38,
   "id": "ced5a069-07e2-4451-98fd-7cc4edd179b6",
   "metadata": {},
   "outputs": [
    {
     "name": "stdout",
     "output_type": "stream",
     "text": [
      "How many points are on your card? 55\n",
      "Your bonus is 10 %\n",
      "You now have 60.50000000000001 points\n"
     ]
    }
   ],
   "source": [
    "# Fix the program\n",
    "points = int(input(\"How many points are on your card? \"))\n",
    "if points < 100:\n",
    "    point = points * 1.1\n",
    "    print(\"Your bonus is 10 %\")\n",
    "\n",
    "if points >= 100:\n",
    "    point = points * 1.15\n",
    "    print(\"Your bonus is 15 %\")\n",
    "\n",
    "print(\"You now have\", point, \"points\")"
   ]
  },
  {
   "cell_type": "markdown",
   "id": "1205a16a-949a-45b0-b9e5-f153b34e8048",
   "metadata": {},
   "source": [
    "### **4) FizzBuzz**"
   ]
  },
  {
   "cell_type": "markdown",
   "id": "42180a80-c940-4226-84a5-ebaca2776be8",
   "metadata": {},
   "source": [
    "Please write a program which asks the user for an integer number. If the number is divisible by three, the program should print out Fizz. If the number is divisible by five, the program should print out Buzz. If the number is divisible by both three and five, the program should print out FizzBuzz."
   ]
  },
  {
   "cell_type": "markdown",
   "id": "17e484dd-a269-489f-9289-f884c5ed070c",
   "metadata": {},
   "source": [
    "*Some examples of expected behaviour:*"
   ]
  },
  {
   "cell_type": "markdown",
   "id": "f95e37e4-7da4-4eb7-a74d-be21592095f0",
   "metadata": {},
   "source": [
    "Number: 9<br>\n",
    "Fizz"
   ]
  },
  {
   "cell_type": "markdown",
   "id": "0add8241-7465-4a8e-b4ba-1cdf0690e5b0",
   "metadata": {},
   "source": [
    "Number: 20<br>\n",
    "Buzz"
   ]
  },
  {
   "cell_type": "markdown",
   "id": "758efaf4-8f56-4db7-abc1-006a5554ec10",
   "metadata": {},
   "source": [
    "Number: 7"
   ]
  },
  {
   "cell_type": "markdown",
   "id": "88eb2c3e-d947-4c70-bac6-29aca020eefe",
   "metadata": {},
   "source": [
    "Number: 45<br/>\n",
    "FizzBuzz"
   ]
  },
  {
   "cell_type": "code",
   "execution_count": 18,
   "id": "a7b32bab-2e9b-487e-9811-1ce6f9d9697e",
   "metadata": {},
   "outputs": [
    {
     "name": "stdout",
     "output_type": "stream",
     "text": [
      "Number: 45\n",
      "FizzBuzz\n"
     ]
    }
   ],
   "source": [
    "num = int(input(\"Number: \"))\n",
    "if num % 3 == 0 and num % 5 == 0 :\n",
    "    print(\"FizzBuzz\")\n",
    "elif num % 3 == 0 :\n",
    "    print(\"Fizz\")\n",
    "elif num % 5 == 0 :\n",
    "    print(\"Buzz\")"
   ]
  },
  {
   "cell_type": "code",
   "execution_count": null,
   "id": "4e5c5faa-2842-4ad4-babd-77246b7f3a5a",
   "metadata": {},
   "outputs": [],
   "source": []
  },
  {
   "cell_type": "markdown",
   "id": "f965199c-19e8-45f1-ae4f-7e863626a007",
   "metadata": {},
   "source": [
    "### **5) PIN and number of attempts**"
   ]
  },
  {
   "cell_type": "markdown",
   "id": "a0916b54-9f22-4c5b-8d0b-b9070d95e43e",
   "metadata": {},
   "source": [
    "Please write a program which keeps asking the user for a PIN code until they type in the correct one, which is 4321. The program should then print out the number of times the user tried different codes."
   ]
  },
  {
   "cell_type": "markdown",
   "id": "f05100d2-ffd4-49a6-9384-69aa5509fc9b",
   "metadata": {},
   "source": [
    "PIN: 3245<br>\n",
    "Wrong<br>\n",
    "PIN: 1234<br>\n",
    "Wrong<br>\n",
    "PIN: 0000<br>\n",
    "Wrong<br>\n",
    "PIN: 4321<br>\n",
    "Correct! It took you 4 attempts"
   ]
  },
  {
   "cell_type": "markdown",
   "id": "2dff330f-9847-4659-b373-84cfce86cf61",
   "metadata": {},
   "source": [
    "**If the user gets it right on the first try,** the program should print out something a bit different:"
   ]
  },
  {
   "cell_type": "markdown",
   "id": "1a742124-7b89-4dad-ae5d-9406c6970bbd",
   "metadata": {},
   "source": [
    "PIN: 4321<br>\n",
    "Correct! It only took you one single attempt!"
   ]
  },
  {
   "cell_type": "code",
   "execution_count": 23,
   "id": "942509fa-fea9-4947-92d1-bd5b85a49f72",
   "metadata": {},
   "outputs": [
    {
     "name": "stdout",
     "output_type": "stream",
     "text": [
      "PIN: 413\n",
      "Wrong\n",
      "PIN: 4321\n",
      "Correct! It took you 2 attempts\n"
     ]
    }
   ],
   "source": [
    "PIN = '4321'\n",
    "counter = 0\n",
    "while True:\n",
    "    pin = input('PIN: ')\n",
    "    counter += 1\n",
    "    if pin == PIN and counter == 1:\n",
    "        print(\"Correct! It only took you one single attempt!\")\n",
    "        break\n",
    "    elif pin == PIN :\n",
    "        print(f\"Correct! It took you {counter} attempts\")\n",
    "        break\n",
    "    else:\n",
    "        print(\"Wrong\")\n",
    "        continue\n"
   ]
  },
  {
   "cell_type": "code",
   "execution_count": null,
   "id": "2b823642-c26a-48bd-84cd-f3a220b1cb38",
   "metadata": {},
   "outputs": [],
   "source": []
  },
  {
   "cell_type": "markdown",
   "id": "b790eacd-8065-4103-969d-c00d828b8405",
   "metadata": {},
   "source": [
    "### **6) Display numbers from -10 to -1**"
   ]
  },
  {
   "cell_type": "markdown",
   "id": "e25fe802-d34c-47bb-844c-a228e50e432f",
   "metadata": {},
   "source": [
    "-10<br>\n",
    "-9<br>\n",
    "-8<br>\n",
    "-7<br>\n",
    "-6<br>\n",
    "-5<br>\n",
    "-4<br>\n",
    "-3<br>\n",
    "-2<br>\n",
    "-1<br>"
   ]
  },
  {
   "cell_type": "code",
   "execution_count": 26,
   "id": "3e7d6719",
   "metadata": {},
   "outputs": [
    {
     "name": "stdout",
     "output_type": "stream",
     "text": [
      "-10\n",
      "-9\n",
      "-8\n",
      "-7\n",
      "-6\n",
      "-5\n",
      "-4\n",
      "-3\n",
      "-2\n",
      "-1\n"
     ]
    }
   ],
   "source": [
    "for i in range(-10,0):\n",
    "    print(i)"
   ]
  },
  {
   "cell_type": "markdown",
   "id": "60345ad0-3f6b-41d0-8ec9-0dc79330b368",
   "metadata": {},
   "source": [
    "### **7) Bonus: Reverse integer number**"
   ]
  },
  {
   "cell_type": "markdown",
   "id": "22908030-3447-4b07-a631-953406915839",
   "metadata": {},
   "source": [
    "Given:<br>\n",
    "\n",
    "76542<br>\n",
    "\n",
    "Expected output:<br>\n",
    "\n",
    "24567<br>"
   ]
  },
  {
   "cell_type": "code",
   "execution_count": 44,
   "id": "83e15c8d-3c64-44b6-a4d9-ce82aaa0f4bd",
   "metadata": {},
   "outputs": [
    {
     "name": "stdout",
     "output_type": "stream",
     "text": [
      "String: \n",
      "76542\n",
      "24567\n"
     ]
    }
   ],
   "source": [
    "given = input('String: \\n')\n",
    "expected = ''\n",
    "for i in given:\n",
    "    expected = i + expected\n",
    "print(expected)"
   ]
  },
  {
   "cell_type": "code",
   "execution_count": 49,
   "id": "2ea7024d",
   "metadata": {},
   "outputs": [
    {
     "name": "stdout",
     "output_type": "stream",
     "text": [
      "24567"
     ]
    }
   ],
   "source": [
    "given = \"76542\"\n",
    "i = len(given)-1\n",
    "for j in given:\n",
    "    print(given[i],end=\"\")\n",
    "    i -= 1"
   ]
  },
  {
   "cell_type": "code",
   "execution_count": 51,
   "id": "0cf21ad4",
   "metadata": {},
   "outputs": [
    {
     "name": "stdout",
     "output_type": "stream",
     "text": [
      "24567\n"
     ]
    }
   ],
   "source": [
    "given = \"76542\"\n",
    "x = int(given)\n",
    "expected = \"\"\n",
    "for i in \"76542\":\n",
    "    last = x%10\n",
    "    y = x//10\n",
    "    x = y\n",
    "    expected = expected + str(last)\n",
    "print(expected)\n",
    "    "
   ]
  },
  {
   "cell_type": "code",
   "execution_count": null,
   "id": "02e8716b",
   "metadata": {},
   "outputs": [],
   "source": []
  }
 ],
 "metadata": {
  "kernelspec": {
   "display_name": "Python 3 (ipykernel)",
   "language": "python",
   "name": "python3"
  },
  "language_info": {
   "codemirror_mode": {
    "name": "ipython",
    "version": 3
   },
   "file_extension": ".py",
   "mimetype": "text/x-python",
   "name": "python",
   "nbconvert_exporter": "python",
   "pygments_lexer": "ipython3",
   "version": "3.11.4"
  }
 },
 "nbformat": 4,
 "nbformat_minor": 5
}
